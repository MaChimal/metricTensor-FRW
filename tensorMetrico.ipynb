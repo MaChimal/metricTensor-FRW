{
 "cells": [
  {
   "cell_type": "markdown",
   "metadata": {},
   "source": [
    "#### Alumno:\n",
    "Amador Chimal Mario Alberto - 335725\n",
    "\n",
    "#### Asignatura:\n",
    "Relatividad General\n",
    "\n",
    "\n",
    "_____________________"
   ]
  },
  {
   "cell_type": "markdown",
   "metadata": {},
   "source": [
    "# Tensores métricos\n",
    "\n",
    "Con la forma 3 (k positiva) de la métrica de Friedman-Robertson-Walker dada en la ecuación (2.9.22) de la página 40 (44) del artículo de Muller, calcule:\n",
    "- Símbolos de Christoffel\n",
    "- Componentes contravariantes del tensor de Rienmann\n",
    "- Escalar de Ricci\n",
    "- Escalar de Kretschman\n",
    "\n",
    "https://arxiv.org/pdf/0904.4184"
   ]
  },
  {
   "cell_type": "markdown",
   "metadata": {},
   "source": [
    "Curvatura Positiva:\n",
    "\n",
    "$ds^2 = -c^2dt^2 + R^2\\{d\\psi^2 + sin^2\\psi(d\\theta^2 + sin^2\\theta d\\phi^2)\\}$ "
   ]
  },
  {
   "cell_type": "code",
   "execution_count": 1,
   "metadata": {},
   "outputs": [],
   "source": [
    "import sympy as sp\n",
    "import einsteinpy.symbolic as es\n",
    "from IPython.display import display, Math"
   ]
  },
  {
   "cell_type": "markdown",
   "metadata": {},
   "source": [
    "Variables de coordenadas y factor de escala:"
   ]
  },
  {
   "cell_type": "code",
   "execution_count": 2,
   "metadata": {},
   "outputs": [],
   "source": [
    "t, psi, theta, phi = sp.symbols('t psi theta phi')\n",
    "c = sp.symbols('c')\n",
    "R = sp.Function('R')(t)"
   ]
  },
  {
   "cell_type": "markdown",
   "metadata": {},
   "source": [
    "Métrica de FRW con curvatura positiva"
   ]
  },
  {
   "cell_type": "code",
   "execution_count": 3,
   "metadata": {},
   "outputs": [],
   "source": [
    "metric = sp.Array([\n",
    "    [-c**2, 0, 0, 0],\n",
    "    [0, R**2, 0, 0],\n",
    "    [0, 0, R**2 * sp.sin(psi)**2, 0],\n",
    "    [0, 0, 0, R**2 * sp.sin(psi)**2 * sp.sin(theta)**2]\n",
    "])"
   ]
  },
  {
   "cell_type": "code",
   "execution_count": 4,
   "metadata": {},
   "outputs": [],
   "source": [
    "metric_tensor = es.MetricTensor(metric, (t, psi, theta, phi))"
   ]
  },
  {
   "cell_type": "markdown",
   "metadata": {},
   "source": [
    "### Símbolos de Christoffel\n",
    "\n",
    "![Christoffel](img/chrstoffel.png)"
   ]
  },
  {
   "cell_type": "code",
   "execution_count": 5,
   "metadata": {},
   "outputs": [
    {
     "data": {
      "text/latex": [
       "$\\displaystyle \\left[\\begin{matrix}\\left[\\begin{matrix}0 & 0 & 0 & 0\\\\0 & \\frac{R{\\left(t \\right)} \\frac{d}{d t} R{\\left(t \\right)}}{c^{2}} & 0 & 0\\\\0 & 0 & \\frac{R{\\left(t \\right)} \\sin^{2}{\\left(\\psi \\right)} \\frac{d}{d t} R{\\left(t \\right)}}{c^{2}} & 0\\\\0 & 0 & 0 & \\frac{R{\\left(t \\right)} \\sin^{2}{\\left(\\psi \\right)} \\sin^{2}{\\left(\\theta \\right)} \\frac{d}{d t} R{\\left(t \\right)}}{c^{2}}\\end{matrix}\\right] & \\left[\\begin{matrix}0 & \\frac{\\frac{d}{d t} R{\\left(t \\right)}}{R{\\left(t \\right)}} & 0 & 0\\\\\\frac{\\frac{d}{d t} R{\\left(t \\right)}}{R{\\left(t \\right)}} & 0 & 0 & 0\\\\0 & 0 & - \\sin{\\left(\\psi \\right)} \\cos{\\left(\\psi \\right)} & 0\\\\0 & 0 & 0 & - \\sin{\\left(\\psi \\right)} \\sin^{2}{\\left(\\theta \\right)} \\cos{\\left(\\psi \\right)}\\end{matrix}\\right] & \\left[\\begin{matrix}0 & 0 & \\frac{\\frac{d}{d t} R{\\left(t \\right)}}{R{\\left(t \\right)}} & 0\\\\0 & 0 & \\frac{\\cos{\\left(\\psi \\right)}}{\\sin{\\left(\\psi \\right)}} & 0\\\\\\frac{\\frac{d}{d t} R{\\left(t \\right)}}{R{\\left(t \\right)}} & \\frac{\\cos{\\left(\\psi \\right)}}{\\sin{\\left(\\psi \\right)}} & 0 & 0\\\\0 & 0 & 0 & - \\sin{\\left(\\theta \\right)} \\cos{\\left(\\theta \\right)}\\end{matrix}\\right] & \\left[\\begin{matrix}0 & 0 & 0 & \\frac{\\frac{d}{d t} R{\\left(t \\right)}}{R{\\left(t \\right)}}\\\\0 & 0 & 0 & \\frac{\\cos{\\left(\\psi \\right)}}{\\sin{\\left(\\psi \\right)}}\\\\0 & 0 & 0 & \\frac{\\cos{\\left(\\theta \\right)}}{\\sin{\\left(\\theta \\right)}}\\\\\\frac{\\frac{d}{d t} R{\\left(t \\right)}}{R{\\left(t \\right)}} & \\frac{\\cos{\\left(\\psi \\right)}}{\\sin{\\left(\\psi \\right)}} & \\frac{\\cos{\\left(\\theta \\right)}}{\\sin{\\left(\\theta \\right)}} & 0\\end{matrix}\\right]\\end{matrix}\\right]$"
      ],
      "text/plain": [
       "[[[0, 0, 0, 0], [0, R(t)*Derivative(R(t), t)/c**2, 0, 0], [0, 0, R(t)*sin(psi)**2*Derivative(R(t), t)/c**2, 0], [0, 0, 0, R(t)*sin(psi)**2*sin(theta)**2*Derivative(R(t), t)/c**2]], [[0, Derivative(R(t), t)/R(t), 0, 0], [Derivative(R(t), t)/R(t), 0, 0, 0], [0, 0, -sin(psi)*cos(psi), 0], [0, 0, 0, -sin(psi)*sin(theta)**2*cos(psi)]], [[0, 0, Derivative(R(t), t)/R(t), 0], [0, 0, cos(psi)/sin(psi), 0], [Derivative(R(t), t)/R(t), cos(psi)/sin(psi), 0, 0], [0, 0, 0, -sin(theta)*cos(theta)]], [[0, 0, 0, Derivative(R(t), t)/R(t)], [0, 0, 0, cos(psi)/sin(psi)], [0, 0, 0, cos(theta)/sin(theta)], [Derivative(R(t), t)/R(t), cos(psi)/sin(psi), cos(theta)/sin(theta), 0]]]"
      ]
     },
     "execution_count": 5,
     "metadata": {},
     "output_type": "execute_result"
    }
   ],
   "source": [
    "ch = es.ChristoffelSymbols.from_metric(metric_tensor)\n",
    "ch_symbols = ch.tensor()\n",
    "ch_symbols"
   ]
  },
  {
   "cell_type": "code",
   "execution_count": 6,
   "metadata": {},
   "outputs": [
    {
     "name": "stdout",
     "output_type": "stream",
     "text": [
      "Símbolos de Christoffel:\n"
     ]
    },
    {
     "data": {
      "text/latex": [
       "$\\displaystyle \\Gamma^{0}_{11} = \\frac{R{\\left(t \\right)} \\frac{d}{d t} R{\\left(t \\right)}}{c^{2}}$"
      ],
      "text/plain": [
       "<IPython.core.display.Math object>"
      ]
     },
     "metadata": {},
     "output_type": "display_data"
    },
    {
     "data": {
      "text/latex": [
       "$\\displaystyle \\Gamma^{0}_{22} = \\frac{R{\\left(t \\right)} \\sin^{2}{\\left(\\psi \\right)} \\frac{d}{d t} R{\\left(t \\right)}}{c^{2}}$"
      ],
      "text/plain": [
       "<IPython.core.display.Math object>"
      ]
     },
     "metadata": {},
     "output_type": "display_data"
    },
    {
     "data": {
      "text/latex": [
       "$\\displaystyle \\Gamma^{0}_{33} = \\frac{R{\\left(t \\right)} \\sin^{2}{\\left(\\psi \\right)} \\sin^{2}{\\left(\\theta \\right)} \\frac{d}{d t} R{\\left(t \\right)}}{c^{2}}$"
      ],
      "text/plain": [
       "<IPython.core.display.Math object>"
      ]
     },
     "metadata": {},
     "output_type": "display_data"
    },
    {
     "data": {
      "text/latex": [
       "$\\displaystyle \\Gamma^{1}_{01} = \\frac{\\frac{d}{d t} R{\\left(t \\right)}}{R{\\left(t \\right)}}$"
      ],
      "text/plain": [
       "<IPython.core.display.Math object>"
      ]
     },
     "metadata": {},
     "output_type": "display_data"
    },
    {
     "data": {
      "text/latex": [
       "$\\displaystyle \\Gamma^{1}_{10} = \\frac{\\frac{d}{d t} R{\\left(t \\right)}}{R{\\left(t \\right)}}$"
      ],
      "text/plain": [
       "<IPython.core.display.Math object>"
      ]
     },
     "metadata": {},
     "output_type": "display_data"
    },
    {
     "data": {
      "text/latex": [
       "$\\displaystyle \\Gamma^{1}_{22} = - \\sin{\\left(\\psi \\right)} \\cos{\\left(\\psi \\right)}$"
      ],
      "text/plain": [
       "<IPython.core.display.Math object>"
      ]
     },
     "metadata": {},
     "output_type": "display_data"
    },
    {
     "data": {
      "text/latex": [
       "$\\displaystyle \\Gamma^{1}_{33} = - \\sin{\\left(\\psi \\right)} \\sin^{2}{\\left(\\theta \\right)} \\cos{\\left(\\psi \\right)}$"
      ],
      "text/plain": [
       "<IPython.core.display.Math object>"
      ]
     },
     "metadata": {},
     "output_type": "display_data"
    },
    {
     "data": {
      "text/latex": [
       "$\\displaystyle \\Gamma^{2}_{02} = \\frac{\\frac{d}{d t} R{\\left(t \\right)}}{R{\\left(t \\right)}}$"
      ],
      "text/plain": [
       "<IPython.core.display.Math object>"
      ]
     },
     "metadata": {},
     "output_type": "display_data"
    },
    {
     "data": {
      "text/latex": [
       "$\\displaystyle \\Gamma^{2}_{12} = \\frac{\\cos{\\left(\\psi \\right)}}{\\sin{\\left(\\psi \\right)}}$"
      ],
      "text/plain": [
       "<IPython.core.display.Math object>"
      ]
     },
     "metadata": {},
     "output_type": "display_data"
    },
    {
     "data": {
      "text/latex": [
       "$\\displaystyle \\Gamma^{2}_{20} = \\frac{\\frac{d}{d t} R{\\left(t \\right)}}{R{\\left(t \\right)}}$"
      ],
      "text/plain": [
       "<IPython.core.display.Math object>"
      ]
     },
     "metadata": {},
     "output_type": "display_data"
    },
    {
     "data": {
      "text/latex": [
       "$\\displaystyle \\Gamma^{2}_{21} = \\frac{\\cos{\\left(\\psi \\right)}}{\\sin{\\left(\\psi \\right)}}$"
      ],
      "text/plain": [
       "<IPython.core.display.Math object>"
      ]
     },
     "metadata": {},
     "output_type": "display_data"
    },
    {
     "data": {
      "text/latex": [
       "$\\displaystyle \\Gamma^{2}_{33} = - \\sin{\\left(\\theta \\right)} \\cos{\\left(\\theta \\right)}$"
      ],
      "text/plain": [
       "<IPython.core.display.Math object>"
      ]
     },
     "metadata": {},
     "output_type": "display_data"
    },
    {
     "data": {
      "text/latex": [
       "$\\displaystyle \\Gamma^{3}_{03} = \\frac{\\frac{d}{d t} R{\\left(t \\right)}}{R{\\left(t \\right)}}$"
      ],
      "text/plain": [
       "<IPython.core.display.Math object>"
      ]
     },
     "metadata": {},
     "output_type": "display_data"
    },
    {
     "data": {
      "text/latex": [
       "$\\displaystyle \\Gamma^{3}_{13} = \\frac{\\cos{\\left(\\psi \\right)}}{\\sin{\\left(\\psi \\right)}}$"
      ],
      "text/plain": [
       "<IPython.core.display.Math object>"
      ]
     },
     "metadata": {},
     "output_type": "display_data"
    },
    {
     "data": {
      "text/latex": [
       "$\\displaystyle \\Gamma^{3}_{23} = \\frac{\\cos{\\left(\\theta \\right)}}{\\sin{\\left(\\theta \\right)}}$"
      ],
      "text/plain": [
       "<IPython.core.display.Math object>"
      ]
     },
     "metadata": {},
     "output_type": "display_data"
    },
    {
     "data": {
      "text/latex": [
       "$\\displaystyle \\Gamma^{3}_{30} = \\frac{\\frac{d}{d t} R{\\left(t \\right)}}{R{\\left(t \\right)}}$"
      ],
      "text/plain": [
       "<IPython.core.display.Math object>"
      ]
     },
     "metadata": {},
     "output_type": "display_data"
    },
    {
     "data": {
      "text/latex": [
       "$\\displaystyle \\Gamma^{3}_{31} = \\frac{\\cos{\\left(\\psi \\right)}}{\\sin{\\left(\\psi \\right)}}$"
      ],
      "text/plain": [
       "<IPython.core.display.Math object>"
      ]
     },
     "metadata": {},
     "output_type": "display_data"
    },
    {
     "data": {
      "text/latex": [
       "$\\displaystyle \\Gamma^{3}_{32} = \\frac{\\cos{\\left(\\theta \\right)}}{\\sin{\\left(\\theta \\right)}}$"
      ],
      "text/plain": [
       "<IPython.core.display.Math object>"
      ]
     },
     "metadata": {},
     "output_type": "display_data"
    }
   ],
   "source": [
    "nonzero_christoffel = [(i, j, k, ch_symbols[i, j, k]) for i in range(4) for j in range(4) for k in range(4) if ch_symbols[i, j, k] != 0]\n",
    "\n",
    "print(\"Símbolos de Christoffel:\")\n",
    "for i, j, k, value in nonzero_christoffel:\n",
    "    display(Math(f\"\\\\Gamma^{{{i}}}_{{{j}{k}}} = {sp.latex(value)}\"))"
   ]
  },
  {
   "cell_type": "markdown",
   "metadata": {},
   "source": [
    "### Tensor de Rienmann\n",
    "\n",
    "![Rienmann](img/riemann.png)"
   ]
  },
  {
   "cell_type": "code",
   "execution_count": 7,
   "metadata": {},
   "outputs": [],
   "source": [
    "riemann = es.RiemannCurvatureTensor.from_christoffels(ch)"
   ]
  },
  {
   "cell_type": "markdown",
   "metadata": {},
   "source": [
    "- Tensor de Rienmann totalmente covariante:"
   ]
  },
  {
   "cell_type": "code",
   "execution_count": 8,
   "metadata": {},
   "outputs": [
    {
     "name": "stdout",
     "output_type": "stream",
     "text": [
      "ulll\n"
     ]
    },
    {
     "data": {
      "text/latex": [
       "$\\displaystyle \\left[\\begin{matrix}\\left[\\begin{matrix}0 & 0 & 0 & 0\\\\0 & 0 & 0 & 0\\\\0 & 0 & 0 & 0\\\\0 & 0 & 0 & 0\\end{matrix}\\right] & \\left[\\begin{matrix}0 & - R{\\left(t \\right)} \\frac{d^{2}}{d t^{2}} R{\\left(t \\right)} & 0 & 0\\\\R{\\left(t \\right)} \\frac{d^{2}}{d t^{2}} R{\\left(t \\right)} & 0 & 0 & 0\\\\0 & 0 & 0 & 0\\\\0 & 0 & 0 & 0\\end{matrix}\\right] & \\left[\\begin{matrix}0 & 0 & - R{\\left(t \\right)} \\sin^{2}{\\left(\\psi \\right)} \\frac{d^{2}}{d t^{2}} R{\\left(t \\right)} & 0\\\\0 & 0 & 0 & 0\\\\R{\\left(t \\right)} \\sin^{2}{\\left(\\psi \\right)} \\frac{d^{2}}{d t^{2}} R{\\left(t \\right)} & 0 & 0 & 0\\\\0 & 0 & 0 & 0\\end{matrix}\\right] & \\left[\\begin{matrix}0 & 0 & 0 & - R{\\left(t \\right)} \\sin^{2}{\\left(\\psi \\right)} \\sin^{2}{\\left(\\theta \\right)} \\frac{d^{2}}{d t^{2}} R{\\left(t \\right)}\\\\0 & 0 & 0 & 0\\\\0 & 0 & 0 & 0\\\\R{\\left(t \\right)} \\sin^{2}{\\left(\\psi \\right)} \\sin^{2}{\\left(\\theta \\right)} \\frac{d^{2}}{d t^{2}} R{\\left(t \\right)} & 0 & 0 & 0\\end{matrix}\\right]\\\\\\left[\\begin{matrix}0 & R{\\left(t \\right)} \\frac{d^{2}}{d t^{2}} R{\\left(t \\right)} & 0 & 0\\\\- R{\\left(t \\right)} \\frac{d^{2}}{d t^{2}} R{\\left(t \\right)} & 0 & 0 & 0\\\\0 & 0 & 0 & 0\\\\0 & 0 & 0 & 0\\end{matrix}\\right] & \\left[\\begin{matrix}0 & 0 & 0 & 0\\\\0 & 0 & 0 & 0\\\\0 & 0 & 0 & 0\\\\0 & 0 & 0 & 0\\end{matrix}\\right] & \\left[\\begin{matrix}0 & 0 & 0 & 0\\\\0 & 0 & \\frac{\\left(c^{2} + \\left(\\frac{d}{d t} R{\\left(t \\right)}\\right)^{2}\\right) R^{2}{\\left(t \\right)} \\sin^{2}{\\left(\\psi \\right)}}{c^{2}} & 0\\\\0 & \\frac{\\left(- c^{2} - \\left(\\frac{d}{d t} R{\\left(t \\right)}\\right)^{2}\\right) R^{2}{\\left(t \\right)} \\sin^{2}{\\left(\\psi \\right)}}{c^{2}} & 0 & 0\\\\0 & 0 & 0 & 0\\end{matrix}\\right] & \\left[\\begin{matrix}0 & 0 & 0 & 0\\\\0 & 0 & 0 & \\frac{\\left(c^{2} + \\left(\\frac{d}{d t} R{\\left(t \\right)}\\right)^{2}\\right) R^{2}{\\left(t \\right)} \\sin^{2}{\\left(\\psi \\right)} \\sin^{2}{\\left(\\theta \\right)}}{c^{2}}\\\\0 & 0 & 0 & 0\\\\0 & \\frac{\\left(- c^{2} - \\left(\\frac{d}{d t} R{\\left(t \\right)}\\right)^{2}\\right) R^{2}{\\left(t \\right)} \\sin^{2}{\\left(\\psi \\right)} \\sin^{2}{\\left(\\theta \\right)}}{c^{2}} & 0 & 0\\end{matrix}\\right]\\\\\\left[\\begin{matrix}0 & 0 & R{\\left(t \\right)} \\sin^{2}{\\left(\\psi \\right)} \\frac{d^{2}}{d t^{2}} R{\\left(t \\right)} & 0\\\\0 & 0 & 0 & 0\\\\- R{\\left(t \\right)} \\sin^{2}{\\left(\\psi \\right)} \\frac{d^{2}}{d t^{2}} R{\\left(t \\right)} & 0 & 0 & 0\\\\0 & 0 & 0 & 0\\end{matrix}\\right] & \\left[\\begin{matrix}0 & 0 & 0 & 0\\\\0 & 0 & \\frac{\\left(- c^{2} - \\left(\\frac{d}{d t} R{\\left(t \\right)}\\right)^{2}\\right) R^{2}{\\left(t \\right)} \\sin^{2}{\\left(\\psi \\right)}}{c^{2}} & 0\\\\0 & \\frac{\\left(c^{2} + \\left(\\frac{d}{d t} R{\\left(t \\right)}\\right)^{2}\\right) R^{2}{\\left(t \\right)} \\sin^{2}{\\left(\\psi \\right)}}{c^{2}} & 0 & 0\\\\0 & 0 & 0 & 0\\end{matrix}\\right] & \\left[\\begin{matrix}0 & 0 & 0 & 0\\\\0 & 0 & 0 & 0\\\\0 & 0 & 0 & 0\\\\0 & 0 & 0 & 0\\end{matrix}\\right] & \\left[\\begin{matrix}0 & 0 & 0 & 0\\\\0 & 0 & 0 & 0\\\\0 & 0 & 0 & \\frac{\\left(c^{2} + \\left(\\frac{d}{d t} R{\\left(t \\right)}\\right)^{2}\\right) R^{2}{\\left(t \\right)} \\sin^{4}{\\left(\\psi \\right)} \\sin^{2}{\\left(\\theta \\right)}}{c^{2}}\\\\0 & 0 & \\frac{\\left(- c^{2} - \\left(\\frac{d}{d t} R{\\left(t \\right)}\\right)^{2}\\right) R^{2}{\\left(t \\right)} \\sin^{4}{\\left(\\psi \\right)} \\sin^{2}{\\left(\\theta \\right)}}{c^{2}} & 0\\end{matrix}\\right]\\\\\\left[\\begin{matrix}0 & 0 & 0 & R{\\left(t \\right)} \\sin^{2}{\\left(\\psi \\right)} \\sin^{2}{\\left(\\theta \\right)} \\frac{d^{2}}{d t^{2}} R{\\left(t \\right)}\\\\0 & 0 & 0 & 0\\\\0 & 0 & 0 & 0\\\\- R{\\left(t \\right)} \\sin^{2}{\\left(\\psi \\right)} \\sin^{2}{\\left(\\theta \\right)} \\frac{d^{2}}{d t^{2}} R{\\left(t \\right)} & 0 & 0 & 0\\end{matrix}\\right] & \\left[\\begin{matrix}0 & 0 & 0 & 0\\\\0 & 0 & 0 & \\frac{\\left(- c^{2} - \\left(\\frac{d}{d t} R{\\left(t \\right)}\\right)^{2}\\right) R^{2}{\\left(t \\right)} \\sin^{2}{\\left(\\psi \\right)} \\sin^{2}{\\left(\\theta \\right)}}{c^{2}}\\\\0 & 0 & 0 & 0\\\\0 & \\frac{\\left(c^{2} + \\left(\\frac{d}{d t} R{\\left(t \\right)}\\right)^{2}\\right) R^{2}{\\left(t \\right)} \\sin^{2}{\\left(\\psi \\right)} \\sin^{2}{\\left(\\theta \\right)}}{c^{2}} & 0 & 0\\end{matrix}\\right] & \\left[\\begin{matrix}0 & 0 & 0 & 0\\\\0 & 0 & 0 & 0\\\\0 & 0 & 0 & \\frac{\\left(- c^{2} - \\left(\\frac{d}{d t} R{\\left(t \\right)}\\right)^{2}\\right) R^{2}{\\left(t \\right)} \\sin^{4}{\\left(\\psi \\right)} \\sin^{2}{\\left(\\theta \\right)}}{c^{2}}\\\\0 & 0 & \\frac{\\left(c^{2} + \\left(\\frac{d}{d t} R{\\left(t \\right)}\\right)^{2}\\right) R^{2}{\\left(t \\right)} \\sin^{4}{\\left(\\psi \\right)} \\sin^{2}{\\left(\\theta \\right)}}{c^{2}} & 0\\end{matrix}\\right] & \\left[\\begin{matrix}0 & 0 & 0 & 0\\\\0 & 0 & 0 & 0\\\\0 & 0 & 0 & 0\\\\0 & 0 & 0 & 0\\end{matrix}\\right]\\end{matrix}\\right]$"
      ],
      "text/plain": [
       "[[[[0, 0, 0, 0], [0, 0, 0, 0], [0, 0, 0, 0], [0, 0, 0, 0]], [[0, -R(t)*Derivative(R(t), (t, 2)), 0, 0], [R(t)*Derivative(R(t), (t, 2)), 0, 0, 0], [0, 0, 0, 0], [0, 0, 0, 0]], [[0, 0, -R(t)*sin(psi)**2*Derivative(R(t), (t, 2)), 0], [0, 0, 0, 0], [R(t)*sin(psi)**2*Derivative(R(t), (t, 2)), 0, 0, 0], [0, 0, 0, 0]], [[0, 0, 0, -R(t)*sin(psi)**2*sin(theta)**2*Derivative(R(t), (t, 2))], [0, 0, 0, 0], [0, 0, 0, 0], [R(t)*sin(psi)**2*sin(theta)**2*Derivative(R(t), (t, 2)), 0, 0, 0]]], [[[0, R(t)*Derivative(R(t), (t, 2)), 0, 0], [-R(t)*Derivative(R(t), (t, 2)), 0, 0, 0], [0, 0, 0, 0], [0, 0, 0, 0]], [[0, 0, 0, 0], [0, 0, 0, 0], [0, 0, 0, 0], [0, 0, 0, 0]], [[0, 0, 0, 0], [0, 0, (c**2 + Derivative(R(t), t)**2)*R(t)**2*sin(psi)**2/c**2, 0], [0, (-c**2 - Derivative(R(t), t)**2)*R(t)**2*sin(psi)**2/c**2, 0, 0], [0, 0, 0, 0]], [[0, 0, 0, 0], [0, 0, 0, (c**2 + Derivative(R(t), t)**2)*R(t)**2*sin(psi)**2*sin(theta)**2/c**2], [0, 0, 0, 0], [0, (-c**2 - Derivative(R(t), t)**2)*R(t)**2*sin(psi)**2*sin(theta)**2/c**2, 0, 0]]], [[[0, 0, R(t)*sin(psi)**2*Derivative(R(t), (t, 2)), 0], [0, 0, 0, 0], [-R(t)*sin(psi)**2*Derivative(R(t), (t, 2)), 0, 0, 0], [0, 0, 0, 0]], [[0, 0, 0, 0], [0, 0, (-c**2 - Derivative(R(t), t)**2)*R(t)**2*sin(psi)**2/c**2, 0], [0, (c**2 + Derivative(R(t), t)**2)*R(t)**2*sin(psi)**2/c**2, 0, 0], [0, 0, 0, 0]], [[0, 0, 0, 0], [0, 0, 0, 0], [0, 0, 0, 0], [0, 0, 0, 0]], [[0, 0, 0, 0], [0, 0, 0, 0], [0, 0, 0, (c**2 + Derivative(R(t), t)**2)*R(t)**2*sin(psi)**4*sin(theta)**2/c**2], [0, 0, (-c**2 - Derivative(R(t), t)**2)*R(t)**2*sin(psi)**4*sin(theta)**2/c**2, 0]]], [[[0, 0, 0, R(t)*sin(psi)**2*sin(theta)**2*Derivative(R(t), (t, 2))], [0, 0, 0, 0], [0, 0, 0, 0], [-R(t)*sin(psi)**2*sin(theta)**2*Derivative(R(t), (t, 2)), 0, 0, 0]], [[0, 0, 0, 0], [0, 0, 0, (-c**2 - Derivative(R(t), t)**2)*R(t)**2*sin(psi)**2*sin(theta)**2/c**2], [0, 0, 0, 0], [0, (c**2 + Derivative(R(t), t)**2)*R(t)**2*sin(psi)**2*sin(theta)**2/c**2, 0, 0]], [[0, 0, 0, 0], [0, 0, 0, 0], [0, 0, 0, (-c**2 - Derivative(R(t), t)**2)*R(t)**2*sin(psi)**4*sin(theta)**2/c**2], [0, 0, (c**2 + Derivative(R(t), t)**2)*R(t)**2*sin(psi)**4*sin(theta)**2/c**2, 0]], [[0, 0, 0, 0], [0, 0, 0, 0], [0, 0, 0, 0], [0, 0, 0, 0]]]]"
      ]
     },
     "execution_count": 8,
     "metadata": {},
     "output_type": "execute_result"
    }
   ],
   "source": [
    "print(riemann.config)\n",
    "riemann_l = riemann.change_config(\"llll\")\n",
    "riemann_tensor  = riemann_l.tensor()\n",
    "riemann_tensor"
   ]
  },
  {
   "cell_type": "code",
   "execution_count": 9,
   "metadata": {},
   "outputs": [
    {
     "name": "stdout",
     "output_type": "stream",
     "text": [
      "\n",
      "Componentes covariantes del tensor de Riemann:\n"
     ]
    },
    {
     "data": {
      "text/latex": [
       "$\\displaystyle R_{0101} = - R{\\left(t \\right)} \\frac{d^{2}}{d t^{2}} R{\\left(t \\right)}$"
      ],
      "text/plain": [
       "<IPython.core.display.Math object>"
      ]
     },
     "metadata": {},
     "output_type": "display_data"
    },
    {
     "data": {
      "text/latex": [
       "$\\displaystyle R_{0202} = - R{\\left(t \\right)} \\sin^{2}{\\left(\\psi \\right)} \\frac{d^{2}}{d t^{2}} R{\\left(t \\right)}$"
      ],
      "text/plain": [
       "<IPython.core.display.Math object>"
      ]
     },
     "metadata": {},
     "output_type": "display_data"
    },
    {
     "data": {
      "text/latex": [
       "$\\displaystyle R_{0303} = - R{\\left(t \\right)} \\sin^{2}{\\left(\\psi \\right)} \\sin^{2}{\\left(\\theta \\right)} \\frac{d^{2}}{d t^{2}} R{\\left(t \\right)}$"
      ],
      "text/plain": [
       "<IPython.core.display.Math object>"
      ]
     },
     "metadata": {},
     "output_type": "display_data"
    },
    {
     "data": {
      "text/latex": [
       "$\\displaystyle R_{1010} = - R{\\left(t \\right)} \\frac{d^{2}}{d t^{2}} R{\\left(t \\right)}$"
      ],
      "text/plain": [
       "<IPython.core.display.Math object>"
      ]
     },
     "metadata": {},
     "output_type": "display_data"
    },
    {
     "data": {
      "text/latex": [
       "$\\displaystyle R_{1212} = \\frac{\\left(c^{2} + \\left(\\frac{d}{d t} R{\\left(t \\right)}\\right)^{2}\\right) R^{2}{\\left(t \\right)} \\sin^{2}{\\left(\\psi \\right)}}{c^{2}}$"
      ],
      "text/plain": [
       "<IPython.core.display.Math object>"
      ]
     },
     "metadata": {},
     "output_type": "display_data"
    },
    {
     "data": {
      "text/latex": [
       "$\\displaystyle R_{1313} = \\frac{\\left(c^{2} + \\left(\\frac{d}{d t} R{\\left(t \\right)}\\right)^{2}\\right) R^{2}{\\left(t \\right)} \\sin^{2}{\\left(\\psi \\right)} \\sin^{2}{\\left(\\theta \\right)}}{c^{2}}$"
      ],
      "text/plain": [
       "<IPython.core.display.Math object>"
      ]
     },
     "metadata": {},
     "output_type": "display_data"
    },
    {
     "data": {
      "text/latex": [
       "$\\displaystyle R_{2020} = - R{\\left(t \\right)} \\sin^{2}{\\left(\\psi \\right)} \\frac{d^{2}}{d t^{2}} R{\\left(t \\right)}$"
      ],
      "text/plain": [
       "<IPython.core.display.Math object>"
      ]
     },
     "metadata": {},
     "output_type": "display_data"
    },
    {
     "data": {
      "text/latex": [
       "$\\displaystyle R_{2121} = \\frac{\\left(c^{2} + \\left(\\frac{d}{d t} R{\\left(t \\right)}\\right)^{2}\\right) R^{2}{\\left(t \\right)} \\sin^{2}{\\left(\\psi \\right)}}{c^{2}}$"
      ],
      "text/plain": [
       "<IPython.core.display.Math object>"
      ]
     },
     "metadata": {},
     "output_type": "display_data"
    },
    {
     "data": {
      "text/latex": [
       "$\\displaystyle R_{2323} = \\frac{\\left(c^{2} + \\left(\\frac{d}{d t} R{\\left(t \\right)}\\right)^{2}\\right) R^{2}{\\left(t \\right)} \\sin^{4}{\\left(\\psi \\right)} \\sin^{2}{\\left(\\theta \\right)}}{c^{2}}$"
      ],
      "text/plain": [
       "<IPython.core.display.Math object>"
      ]
     },
     "metadata": {},
     "output_type": "display_data"
    },
    {
     "data": {
      "text/latex": [
       "$\\displaystyle R_{3030} = - R{\\left(t \\right)} \\sin^{2}{\\left(\\psi \\right)} \\sin^{2}{\\left(\\theta \\right)} \\frac{d^{2}}{d t^{2}} R{\\left(t \\right)}$"
      ],
      "text/plain": [
       "<IPython.core.display.Math object>"
      ]
     },
     "metadata": {},
     "output_type": "display_data"
    },
    {
     "data": {
      "text/latex": [
       "$\\displaystyle R_{3131} = \\frac{\\left(c^{2} + \\left(\\frac{d}{d t} R{\\left(t \\right)}\\right)^{2}\\right) R^{2}{\\left(t \\right)} \\sin^{2}{\\left(\\psi \\right)} \\sin^{2}{\\left(\\theta \\right)}}{c^{2}}$"
      ],
      "text/plain": [
       "<IPython.core.display.Math object>"
      ]
     },
     "metadata": {},
     "output_type": "display_data"
    },
    {
     "data": {
      "text/latex": [
       "$\\displaystyle R_{3232} = \\frac{\\left(c^{2} + \\left(\\frac{d}{d t} R{\\left(t \\right)}\\right)^{2}\\right) R^{2}{\\left(t \\right)} \\sin^{4}{\\left(\\psi \\right)} \\sin^{2}{\\left(\\theta \\right)}}{c^{2}}$"
      ],
      "text/plain": [
       "<IPython.core.display.Math object>"
      ]
     },
     "metadata": {},
     "output_type": "display_data"
    }
   ],
   "source": [
    "nonzero_riemann = [(i, j, k, l, sp.simplify(riemann_l[i, j, k, l])) for i in range(4) for j in range(4) for k in range(4) for l in range(4) if riemann_l[i, j, k, l] != 0]\n",
    "\n",
    "print(\"\\nComponentes covariantes del tensor de Riemann:\")\n",
    "for i, j, k, l, value in nonzero_riemann:\n",
    "    if i == k and j == l:\n",
    "        display(Math(f\"R_{{{i}{j}{k}{l}}} = {sp.latex(value)}\"))"
   ]
  },
  {
   "cell_type": "markdown",
   "metadata": {},
   "source": [
    "- Tensor de Rienmann totalmente contravariante:"
   ]
  },
  {
   "cell_type": "code",
   "execution_count": 10,
   "metadata": {},
   "outputs": [],
   "source": [
    "riemann_u = riemann.change_config(\"uuuu\")"
   ]
  },
  {
   "cell_type": "code",
   "execution_count": 11,
   "metadata": {},
   "outputs": [
    {
     "name": "stdout",
     "output_type": "stream",
     "text": [
      "\n",
      "Componentes contravariantes del tensor de Riemann:\n"
     ]
    },
    {
     "data": {
      "text/latex": [
       "$\\displaystyle R^{0101} = - \\frac{\\frac{d^{2}}{d t^{2}} R{\\left(t \\right)}}{c^{4} R^{3}{\\left(t \\right)}}$"
      ],
      "text/plain": [
       "<IPython.core.display.Math object>"
      ]
     },
     "metadata": {},
     "output_type": "display_data"
    },
    {
     "data": {
      "text/latex": [
       "$\\displaystyle R^{0202} = - \\frac{\\frac{d^{2}}{d t^{2}} R{\\left(t \\right)}}{c^{4} R^{3}{\\left(t \\right)} \\sin^{2}{\\left(\\psi \\right)}}$"
      ],
      "text/plain": [
       "<IPython.core.display.Math object>"
      ]
     },
     "metadata": {},
     "output_type": "display_data"
    },
    {
     "data": {
      "text/latex": [
       "$\\displaystyle R^{0303} = - \\frac{\\frac{d^{2}}{d t^{2}} R{\\left(t \\right)}}{c^{4} R^{3}{\\left(t \\right)} \\sin^{2}{\\left(\\psi \\right)} \\sin^{2}{\\left(\\theta \\right)}}$"
      ],
      "text/plain": [
       "<IPython.core.display.Math object>"
      ]
     },
     "metadata": {},
     "output_type": "display_data"
    },
    {
     "data": {
      "text/latex": [
       "$\\displaystyle R^{1010} = - \\frac{\\frac{d^{2}}{d t^{2}} R{\\left(t \\right)}}{c^{4} R^{3}{\\left(t \\right)}}$"
      ],
      "text/plain": [
       "<IPython.core.display.Math object>"
      ]
     },
     "metadata": {},
     "output_type": "display_data"
    },
    {
     "data": {
      "text/latex": [
       "$\\displaystyle R^{1212} = \\frac{c^{2} + \\left(\\frac{d}{d t} R{\\left(t \\right)}\\right)^{2}}{c^{2} R^{6}{\\left(t \\right)} \\sin^{2}{\\left(\\psi \\right)}}$"
      ],
      "text/plain": [
       "<IPython.core.display.Math object>"
      ]
     },
     "metadata": {},
     "output_type": "display_data"
    },
    {
     "data": {
      "text/latex": [
       "$\\displaystyle R^{1313} = \\frac{c^{2} + \\left(\\frac{d}{d t} R{\\left(t \\right)}\\right)^{2}}{c^{2} R^{6}{\\left(t \\right)} \\sin^{2}{\\left(\\psi \\right)} \\sin^{2}{\\left(\\theta \\right)}}$"
      ],
      "text/plain": [
       "<IPython.core.display.Math object>"
      ]
     },
     "metadata": {},
     "output_type": "display_data"
    },
    {
     "data": {
      "text/latex": [
       "$\\displaystyle R^{2020} = - \\frac{\\frac{d^{2}}{d t^{2}} R{\\left(t \\right)}}{c^{4} R^{3}{\\left(t \\right)} \\sin^{2}{\\left(\\psi \\right)}}$"
      ],
      "text/plain": [
       "<IPython.core.display.Math object>"
      ]
     },
     "metadata": {},
     "output_type": "display_data"
    },
    {
     "data": {
      "text/latex": [
       "$\\displaystyle R^{2121} = \\frac{c^{2} + \\left(\\frac{d}{d t} R{\\left(t \\right)}\\right)^{2}}{c^{2} R^{6}{\\left(t \\right)} \\sin^{2}{\\left(\\psi \\right)}}$"
      ],
      "text/plain": [
       "<IPython.core.display.Math object>"
      ]
     },
     "metadata": {},
     "output_type": "display_data"
    },
    {
     "data": {
      "text/latex": [
       "$\\displaystyle R^{2323} = \\frac{c^{2} + \\left(\\frac{d}{d t} R{\\left(t \\right)}\\right)^{2}}{c^{2} R^{6}{\\left(t \\right)} \\sin^{4}{\\left(\\psi \\right)} \\sin^{2}{\\left(\\theta \\right)}}$"
      ],
      "text/plain": [
       "<IPython.core.display.Math object>"
      ]
     },
     "metadata": {},
     "output_type": "display_data"
    },
    {
     "data": {
      "text/latex": [
       "$\\displaystyle R^{3030} = - \\frac{\\frac{d^{2}}{d t^{2}} R{\\left(t \\right)}}{c^{4} R^{3}{\\left(t \\right)} \\sin^{2}{\\left(\\psi \\right)} \\sin^{2}{\\left(\\theta \\right)}}$"
      ],
      "text/plain": [
       "<IPython.core.display.Math object>"
      ]
     },
     "metadata": {},
     "output_type": "display_data"
    },
    {
     "data": {
      "text/latex": [
       "$\\displaystyle R^{3131} = \\frac{c^{2} + \\left(\\frac{d}{d t} R{\\left(t \\right)}\\right)^{2}}{c^{2} R^{6}{\\left(t \\right)} \\sin^{2}{\\left(\\psi \\right)} \\sin^{2}{\\left(\\theta \\right)}}$"
      ],
      "text/plain": [
       "<IPython.core.display.Math object>"
      ]
     },
     "metadata": {},
     "output_type": "display_data"
    },
    {
     "data": {
      "text/latex": [
       "$\\displaystyle R^{3232} = \\frac{c^{2} + \\left(\\frac{d}{d t} R{\\left(t \\right)}\\right)^{2}}{c^{2} R^{6}{\\left(t \\right)} \\sin^{4}{\\left(\\psi \\right)} \\sin^{2}{\\left(\\theta \\right)}}$"
      ],
      "text/plain": [
       "<IPython.core.display.Math object>"
      ]
     },
     "metadata": {},
     "output_type": "display_data"
    }
   ],
   "source": [
    "nonzero_riemann_u = [(i, j, k, l, sp.simplify(riemann_u[i, j, k, l])) for i in range(4) for j in range(4) for k in range(4) for l in range(4) if riemann_u[i, j, k, l] != 0]\n",
    "\n",
    "print(\"\\nComponentes contravariantes del tensor de Riemann:\")\n",
    "for i, j, k, l, value in nonzero_riemann_u:\n",
    "    if i == k and j == l:\n",
    "        display(Math(f\"R^{{{i}{j}{k}{l}}} = {sp.latex(value)}\"))"
   ]
  },
  {
   "cell_type": "markdown",
   "metadata": {},
   "source": [
    "### Escalar de Ricci\n",
    "\n",
    "![Scalars](img/scalars.png)"
   ]
  },
  {
   "cell_type": "markdown",
   "metadata": {},
   "source": [
    "- Cálculo del Tensor de Ricci:"
   ]
  },
  {
   "cell_type": "code",
   "execution_count": 12,
   "metadata": {},
   "outputs": [],
   "source": [
    "ricci = es.RicciTensor.from_riemann(riemann)"
   ]
  },
  {
   "cell_type": "markdown",
   "metadata": {},
   "source": [
    "- Cálculo del Escalar de Ricci:"
   ]
  },
  {
   "cell_type": "code",
   "execution_count": 13,
   "metadata": {},
   "outputs": [
    {
     "data": {
      "text/latex": [
       "$\\displaystyle \\frac{6 \\left(c^{2} + R{\\left(t \\right)} \\frac{d^{2}}{d t^{2}} R{\\left(t \\right)} + \\left(\\frac{d}{d t} R{\\left(t \\right)}\\right)^{2}\\right)}{c^{2} R^{2}{\\left(t \\right)}}$"
      ],
      "text/plain": [
       "6*(c**2 + R(t)*Derivative(R(t), (t, 2)) + Derivative(R(t), t)**2)/(c**2*R(t)**2)"
      ]
     },
     "execution_count": 13,
     "metadata": {},
     "output_type": "execute_result"
    }
   ],
   "source": [
    "ricci_scalar = es.RicciScalar.from_riccitensor(ricci)\n",
    "ricci_scalar.simplify()"
   ]
  },
  {
   "cell_type": "markdown",
   "metadata": {},
   "source": [
    "### Escalar de Kretschmann\n",
    "\n",
    "![Scalars](img/scalars.png)\n",
    "\n",
    "________________________\n",
    "\n",
    "![Wiki](img/kretschmann.png)"
   ]
  },
  {
   "cell_type": "code",
   "execution_count": 14,
   "metadata": {},
   "outputs": [
    {
     "name": "stdout",
     "output_type": "stream",
     "text": [
      "\n",
      "Escalar de Kretschmann:\n"
     ]
    },
    {
     "data": {
      "text/latex": [
       "$\\displaystyle \\frac{12 \\left(\\left(c^{2} + \\left(\\frac{d}{d t} R{\\left(t \\right)}\\right)^{2}\\right)^{2} + R^{2}{\\left(t \\right)} \\left(\\frac{d^{2}}{d t^{2}} R{\\left(t \\right)}\\right)^{2}\\right)}{c^{4} R^{4}{\\left(t \\right)}}$"
      ],
      "text/plain": [
       "12*((c**2 + Derivative(R(t), t)**2)**2 + R(t)**2*Derivative(R(t), (t, 2))**2)/(c**4*R(t)**4)"
      ]
     },
     "metadata": {},
     "output_type": "display_data"
    }
   ],
   "source": [
    "kretschmann_scalar = 0\n",
    "\n",
    "for a in range(4):\n",
    "    for b in range(4):\n",
    "        for c in range(4):\n",
    "            for d in range(4):\n",
    "                kretschmann_scalar += riemann_u[a, b, c, d] * riemann_l[a, b, c, d]\n",
    "\n",
    "print(\"\\nEscalar de Kretschmann:\")\n",
    "display(sp.simplify(kretschmann_scalar))"
   ]
  },
  {
   "cell_type": "code",
   "execution_count": null,
   "metadata": {},
   "outputs": [],
   "source": []
  }
 ],
 "metadata": {
  "kernelspec": {
   "display_name": "relatividad-VXWOGrfe-py3.10",
   "language": "python",
   "name": "python3"
  },
  "language_info": {
   "codemirror_mode": {
    "name": "ipython",
    "version": 3
   },
   "file_extension": ".py",
   "mimetype": "text/x-python",
   "name": "python",
   "nbconvert_exporter": "python",
   "pygments_lexer": "ipython3",
   "version": "3.10.12"
  }
 },
 "nbformat": 4,
 "nbformat_minor": 2
}
